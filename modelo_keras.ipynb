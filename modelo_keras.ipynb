{
 "cells": [
  {
   "cell_type": "code",
   "execution_count": 3,
   "metadata": {},
   "outputs": [
    {
     "name": "stderr",
     "output_type": "stream",
     "text": [
      "WARNING:absl:You are saving your model as an HDF5 file via `model.save()` or `keras.saving.save_model(model)`. This file format is considered legacy. We recommend using instead the native Keras format, e.g. `model.save('my_model.keras')` or `keras.saving.save_model(model, 'my_model.keras')`. \n"
     ]
    }
   ],
   "source": [
    "import tensorflow as tf\n",
    "from tensorflow.keras import layers, models\n",
    "\n",
    "def unet_model(input_size=(128, 128, 3)):\n",
    "    inputs = layers.Input(input_size)\n",
    "\n",
    "    # Encoder\n",
    "    c1 = layers.Conv2D(16, (3,3), activation='relu', padding='same')(inputs)\n",
    "    c1 = layers.Conv2D(16, (3,3), activation='relu', padding='same')(c1)\n",
    "    p1 = layers.MaxPooling2D((2,2))(c1)\n",
    "\n",
    "    c2 = layers.Conv2D(32, (3,3), activation='relu', padding='same')(p1)\n",
    "    c2 = layers.Conv2D(32, (3,3), activation='relu', padding='same')(c2)\n",
    "    p2 = layers.MaxPooling2D((2,2))(c2)\n",
    "\n",
    "    # Bottleneck\n",
    "    b = layers.Conv2D(64, (3,3), activation='relu', padding='same')(p2)\n",
    "    b = layers.Conv2D(64, (3,3), activation='relu', padding='same')(b)\n",
    "\n",
    "    # Decoder\n",
    "    u1 = layers.Conv2DTranspose(32, (2,2), strides=(2,2), padding='same')(b)\n",
    "    u1 = layers.concatenate([u1, c2])\n",
    "    c3 = layers.Conv2D(32, (3,3), activation='relu', padding='same')(u1)\n",
    "    c3 = layers.Conv2D(32, (3,3), activation='relu', padding='same')(c3)\n",
    "\n",
    "    u2 = layers.Conv2DTranspose(16, (2,2), strides=(2,2), padding='same')(c3)\n",
    "    u2 = layers.concatenate([u2, c1])\n",
    "    c4 = layers.Conv2D(16, (3,3), activation='relu', padding='same')(u2)\n",
    "    c4 = layers.Conv2D(16, (3,3), activation='relu', padding='same')(c4)\n",
    "\n",
    "    outputs = layers.Conv2D(1, (1,1), activation='sigmoid')(c4)\n",
    "\n",
    "    model = models.Model(inputs=[inputs], outputs=[outputs])\n",
    "    return model\n",
    "\n",
    "model = unet_model()\n",
    "model.compile(optimizer='adam', loss='binary_crossentropy', metrics=['accuracy'])\n",
    "\n",
    "# Salvar o modelo\n",
    "model.save('artefatos/unet_model.h5')\n"
   ]
  },
  {
   "cell_type": "code",
   "execution_count": null,
   "metadata": {},
   "outputs": [],
   "source": []
  }
 ],
 "metadata": {
  "kernelspec": {
   "display_name": ".venv",
   "language": "python",
   "name": "python3"
  },
  "language_info": {
   "codemirror_mode": {
    "name": "ipython",
    "version": 3
   },
   "file_extension": ".py",
   "mimetype": "text/x-python",
   "name": "python",
   "nbconvert_exporter": "python",
   "pygments_lexer": "ipython3",
   "version": "3.10.10"
  }
 },
 "nbformat": 4,
 "nbformat_minor": 2
}
